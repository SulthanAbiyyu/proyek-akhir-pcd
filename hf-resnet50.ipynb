{
 "cells": [
  {
   "cell_type": "code",
   "execution_count": 1,
   "metadata": {},
   "outputs": [
    {
     "name": "stderr",
     "output_type": "stream",
     "text": [
      "d:\\Python\\lib\\site-packages\\numpy\\_distributor_init.py:30: UserWarning: loaded more than 1 DLL from .libs:\n",
      "d:\\Python\\lib\\site-packages\\numpy\\.libs\\libopenblas.FB5AE2TYXYH2IJRDKGDGQ3XBKLKTF43H.gfortran-win_amd64.dll\n",
      "d:\\Python\\lib\\site-packages\\numpy\\.libs\\libopenblas64__v0.3.23-246-g3d31191b-gcc_10_3_0.dll\n",
      "  warnings.warn(\"loaded more than 1 DLL from .libs:\"\n"
     ]
    }
   ],
   "source": [
    "import os\n",
    "import glob\n",
    "\n",
    "import matplotlib.pyplot as plt\n",
    "from pathlib import Path\n",
    "from PIL import Image\n",
    "from datasets import load_dataset\n",
    "from transformers import AutoImageProcessor, AutoModelForImageClassification, TrainingArguments, Trainer"
   ]
  },
  {
   "cell_type": "code",
   "execution_count": 2,
   "metadata": {},
   "outputs": [],
   "source": [
    "ROOT_DATASET_PATH = Path('./cifake/')\n",
    "TRAIN_DATASET_PATH = ROOT_DATASET_PATH / 'train'\n",
    "TEST_DATASET_PATH = ROOT_DATASET_PATH / 'test'"
   ]
  },
  {
   "cell_type": "code",
   "execution_count": 3,
   "metadata": {},
   "outputs": [
    {
     "data": {
      "application/vnd.jupyter.widget-view+json": {
       "model_id": "c922fadc83144291bd313f6c5bbb6845",
       "version_major": 2,
       "version_minor": 0
      },
      "text/plain": [
       "Resolving data files:   0%|          | 0/100000 [00:00<?, ?it/s]"
      ]
     },
     "metadata": {},
     "output_type": "display_data"
    },
    {
     "data": {
      "application/vnd.jupyter.widget-view+json": {
       "model_id": "61861bece6fd48d787198dd6f3e1a650",
       "version_major": 2,
       "version_minor": 0
      },
      "text/plain": [
       "Resolving data files:   0%|          | 0/20000 [00:00<?, ?it/s]"
      ]
     },
     "metadata": {},
     "output_type": "display_data"
    }
   ],
   "source": [
    "data = load_dataset('imagefolder', data_dir=\"./cifake/\")"
   ]
  },
  {
   "cell_type": "code",
   "execution_count": 4,
   "metadata": {},
   "outputs": [],
   "source": [
    "labels = data[\"train\"].features[\"label\"].names\n",
    "label2id, id2label = dict(), dict()\n",
    "for i, label in enumerate(labels):\n",
    "    label2id[label] = i\n",
    "    id2label[i] = label"
   ]
  },
  {
   "cell_type": "code",
   "execution_count": 5,
   "metadata": {},
   "outputs": [
    {
     "name": "stderr",
     "output_type": "stream",
     "text": [
      "Could not find image processor class in the image processor config or the model config. Loading based on pattern matching with the model's feature extractor configuration.\n"
     ]
    },
    {
     "data": {
      "text/plain": [
       "ConvNextImageProcessor {\n",
       "  \"crop_pct\": 0.875,\n",
       "  \"do_normalize\": true,\n",
       "  \"do_rescale\": true,\n",
       "  \"do_resize\": true,\n",
       "  \"image_mean\": [\n",
       "    0.485,\n",
       "    0.456,\n",
       "    0.406\n",
       "  ],\n",
       "  \"image_processor_type\": \"ConvNextImageProcessor\",\n",
       "  \"image_std\": [\n",
       "    0.229,\n",
       "    0.224,\n",
       "    0.225\n",
       "  ],\n",
       "  \"resample\": 3,\n",
       "  \"rescale_factor\": 0.00392156862745098,\n",
       "  \"size\": {\n",
       "    \"shortest_edge\": 224\n",
       "  }\n",
       "}"
      ]
     },
     "execution_count": 5,
     "metadata": {},
     "output_type": "execute_result"
    }
   ],
   "source": [
    "checkpoint = \"microsoft/resnet-50\"\n",
    "image_processor = AutoImageProcessor.from_pretrained(checkpoint)\n",
    "\n",
    "image_processor"
   ]
  },
  {
   "cell_type": "code",
   "execution_count": 33,
   "metadata": {},
   "outputs": [],
   "source": [
    "from torchvision.transforms import (\n",
    "    CenterCrop,\n",
    "    Compose,\n",
    "    Normalize,\n",
    "    RandomHorizontalFlip,\n",
    "    RandomResizedCrop,\n",
    "    Resize,\n",
    "    ToTensor,\n",
    ")\n",
    "\n",
    "normalize = Normalize(mean=image_processor.image_mean,\n",
    "                      std=image_processor.image_std)\n",
    "if \"height\" in image_processor.size:\n",
    "    size = (image_processor.size[\"height\"], image_processor.size[\"width\"])\n",
    "    crop_size = size\n",
    "    max_size = None\n",
    "elif \"shortest_edge\" in image_processor.size:\n",
    "    size = image_processor.size[\"shortest_edge\"]\n",
    "    crop_size = (size, size)\n",
    "    max_size = image_processor.size.get(\"longest_edge\")\n",
    "\n",
    "train_transforms = Compose(\n",
    "    [\n",
    "        RandomResizedCrop(crop_size),\n",
    "        RandomHorizontalFlip(),\n",
    "        ToTensor(),\n",
    "        normalize,\n",
    "    ]\n",
    ")\n",
    "\n",
    "val_transforms = Compose(\n",
    "    [\n",
    "        Resize(size),\n",
    "        CenterCrop(crop_size),\n",
    "        ToTensor(),\n",
    "        normalize,\n",
    "    ]\n",
    ")\n",
    "\n",
    "def preprocess_train(example_batch):\n",
    "    example_batch[\"pixel_values\"] = [\n",
    "        train_transforms(image.convert(\"RGB\")) for image in example_batch[\"image\"]\n",
    "    ]\n",
    "    return example_batch\n",
    "\n",
    "def preprocess_val(example_batch):\n",
    "    example_batch[\"pixel_values\"] = [val_transforms(\n",
    "        image.convert(\"RGB\")) for image in example_batch[\"image\"]]\n",
    "    return example_batch\n",
    "\n",
    "train_ds = data[\"train\"]\n",
    "test_ds = data[\"test\"]\n",
    "\n",
    "train_ds.set_transform(preprocess_train)\n",
    "test_ds.set_transform(preprocess_val)"
   ]
  },
  {
   "cell_type": "code",
   "execution_count": 35,
   "metadata": {},
   "outputs": [
    {
     "name": "stderr",
     "output_type": "stream",
     "text": [
      "Some weights of ResNetForImageClassification were not initialized from the model checkpoint at microsoft/resnet-50 and are newly initialized because the shapes did not match:\n",
      "- classifier.1.weight: found shape torch.Size([1000, 2048]) in the checkpoint and torch.Size([2, 2048]) in the model instantiated\n",
      "- classifier.1.bias: found shape torch.Size([1000]) in the checkpoint and torch.Size([2]) in the model instantiated\n",
      "You should probably TRAIN this model on a down-stream task to be able to use it for predictions and inference.\n"
     ]
    }
   ],
   "source": [
    "model = AutoModelForImageClassification.from_pretrained(\n",
    "    checkpoint,\n",
    "    label2id=label2id,\n",
    "    id2label=id2label,\n",
    "    ignore_mismatched_sizes=True,\n",
    ")"
   ]
  },
  {
   "cell_type": "code",
   "execution_count": 36,
   "metadata": {},
   "outputs": [],
   "source": [
    "import numpy as np\n",
    "from datasets import load_metric\n",
    "\n",
    "metric = load_metric(\"f1\")\n",
    "\n",
    "def compute_metrics(eval_pred):\n",
    "    predictions = np.argmax(eval_pred.predictions, axis=1)\n",
    "    return metric.compute(predictions=predictions, references=eval_pred.label_ids)"
   ]
  },
  {
   "cell_type": "code",
   "execution_count": 37,
   "metadata": {},
   "outputs": [],
   "source": [
    "batch_size = 32\n",
    "model_name = checkpoint.split(\"/\")[-1]\n",
    "epoch = 5\n",
    "\n",
    "args = TrainingArguments(\n",
    "    f\"{model_name}-finetuned-cifake-epoch{epoch}\",\n",
    "    remove_unused_columns=False,\n",
    "    evaluation_strategy=\"epoch\",\n",
    "    save_strategy=\"epoch\",\n",
    "    learning_rate=5e-5,\n",
    "    per_device_train_batch_size=batch_size,\n",
    "    gradient_accumulation_steps=4,\n",
    "    per_device_eval_batch_size=batch_size,\n",
    "    num_train_epochs=epoch,\n",
    "    warmup_ratio=0.1,\n",
    "    logging_steps=10,\n",
    "    load_best_model_at_end=True,\n",
    "    metric_for_best_model=\"f1\",\n",
    ")"
   ]
  },
  {
   "cell_type": "code",
   "execution_count": 38,
   "metadata": {},
   "outputs": [],
   "source": [
    "import torch\n",
    "\n",
    "def collate_fn(examples):\n",
    "    pixel_values = torch.stack([example[\"pixel_values\"]\n",
    "                               for example in examples])\n",
    "    labels = torch.tensor([example[\"label\"] for example in examples])\n",
    "    return {\"pixel_values\": pixel_values, \"labels\": labels}"
   ]
  },
  {
   "cell_type": "code",
   "execution_count": 39,
   "metadata": {},
   "outputs": [],
   "source": [
    "trainer = Trainer(\n",
    "    model,\n",
    "    args,\n",
    "    train_dataset=train_ds,\n",
    "    eval_dataset=test_ds,\n",
    "    tokenizer=image_processor,\n",
    "    compute_metrics=compute_metrics,\n",
    "    data_collator=collate_fn,\n",
    ")"
   ]
  },
  {
   "cell_type": "code",
   "execution_count": 41,
   "metadata": {},
   "outputs": [
    {
     "name": "stderr",
     "output_type": "stream",
     "text": [
      "Failed to detect the name of this notebook, you can set it manually with the WANDB_NOTEBOOK_NAME environment variable to enable code saving.\n",
      "\u001b[34m\u001b[1mwandb\u001b[0m: Currently logged in as: \u001b[33msulthanabiyyu\u001b[0m. Use \u001b[1m`wandb login --relogin`\u001b[0m to force relogin\n"
     ]
    },
    {
     "data": {
      "text/html": [
       "wandb version 0.15.11 is available!  To upgrade, please run:\n",
       " $ pip install wandb --upgrade"
      ],
      "text/plain": [
       "<IPython.core.display.HTML object>"
      ]
     },
     "metadata": {},
     "output_type": "display_data"
    },
    {
     "data": {
      "text/html": [
       "Tracking run with wandb version 0.15.4"
      ],
      "text/plain": [
       "<IPython.core.display.HTML object>"
      ]
     },
     "metadata": {},
     "output_type": "display_data"
    },
    {
     "data": {
      "text/html": [
       "Run data is saved locally in <code>d:\\Code\\Project\\Java\\Kuliah\\Semester 5\\PCD\\proyek-akhir\\wandb\\run-20230924_132228-cnbr1gi2</code>"
      ],
      "text/plain": [
       "<IPython.core.display.HTML object>"
      ]
     },
     "metadata": {},
     "output_type": "display_data"
    },
    {
     "data": {
      "text/html": [
       "Syncing run <strong><a href='https://wandb.ai/sulthanabiyyu/proyek-akhir/runs/cnbr1gi2' target=\"_blank\">resilient-elevator-1</a></strong> to <a href='https://wandb.ai/sulthanabiyyu/proyek-akhir' target=\"_blank\">Weights & Biases</a> (<a href='https://wandb.me/run' target=\"_blank\">docs</a>)<br/>"
      ],
      "text/plain": [
       "<IPython.core.display.HTML object>"
      ]
     },
     "metadata": {},
     "output_type": "display_data"
    },
    {
     "data": {
      "text/html": [
       " View project at <a href='https://wandb.ai/sulthanabiyyu/proyek-akhir' target=\"_blank\">https://wandb.ai/sulthanabiyyu/proyek-akhir</a>"
      ],
      "text/plain": [
       "<IPython.core.display.HTML object>"
      ]
     },
     "metadata": {},
     "output_type": "display_data"
    },
    {
     "data": {
      "text/html": [
       " View run at <a href='https://wandb.ai/sulthanabiyyu/proyek-akhir/runs/cnbr1gi2' target=\"_blank\">https://wandb.ai/sulthanabiyyu/proyek-akhir/runs/cnbr1gi2</a>"
      ],
      "text/plain": [
       "<IPython.core.display.HTML object>"
      ]
     },
     "metadata": {},
     "output_type": "display_data"
    },
    {
     "data": {
      "text/html": [
       "<button onClick=\"this.nextSibling.style.display='block';this.style.display='none';\">Display W&B run</button><iframe src='https://wandb.ai/sulthanabiyyu/proyek-akhir/runs/cnbr1gi2?jupyter=true' style='border:none;width:100%;height:420px;display:none;'></iframe>"
      ],
      "text/plain": [
       "<wandb.sdk.wandb_run.Run at 0x2f41c83c2b0>"
      ]
     },
     "execution_count": 41,
     "metadata": {},
     "output_type": "execute_result"
    }
   ],
   "source": [
    "import wandb\n",
    "\n",
    "wandb.init()"
   ]
  },
  {
   "cell_type": "code",
   "execution_count": 42,
   "metadata": {},
   "outputs": [
    {
     "data": {
      "application/vnd.jupyter.widget-view+json": {
       "model_id": "0fdcad759f634247893ed1be947ba9bb",
       "version_major": 2,
       "version_minor": 0
      },
      "text/plain": [
       "  0%|          | 0/3905 [00:00<?, ?it/s]"
      ]
     },
     "metadata": {},
     "output_type": "display_data"
    },
    {
     "name": "stdout",
     "output_type": "stream",
     "text": [
      "{'loss': 0.6932, 'learning_rate': 1.2787723785166241e-06, 'epoch': 0.01}\n",
      "{'loss': 0.6925, 'learning_rate': 2.5575447570332483e-06, 'epoch': 0.03}\n",
      "{'loss': 0.6939, 'learning_rate': 3.836317135549873e-06, 'epoch': 0.04}\n",
      "{'loss': 0.6916, 'learning_rate': 5.1150895140664966e-06, 'epoch': 0.05}\n",
      "{'loss': 0.6925, 'learning_rate': 6.3938618925831205e-06, 'epoch': 0.06}\n",
      "{'loss': 0.6908, 'learning_rate': 7.672634271099745e-06, 'epoch': 0.08}\n",
      "{'loss': 0.6917, 'learning_rate': 8.95140664961637e-06, 'epoch': 0.09}\n",
      "{'loss': 0.689, 'learning_rate': 1.0230179028132993e-05, 'epoch': 0.1}\n",
      "{'loss': 0.6901, 'learning_rate': 1.1508951406649617e-05, 'epoch': 0.12}\n",
      "{'loss': 0.6858, 'learning_rate': 1.2787723785166241e-05, 'epoch': 0.13}\n",
      "{'loss': 0.6857, 'learning_rate': 1.4066496163682865e-05, 'epoch': 0.14}\n",
      "{'loss': 0.6852, 'learning_rate': 1.534526854219949e-05, 'epoch': 0.15}\n",
      "{'loss': 0.6827, 'learning_rate': 1.6624040920716114e-05, 'epoch': 0.17}\n",
      "{'loss': 0.6811, 'learning_rate': 1.790281329923274e-05, 'epoch': 0.18}\n",
      "{'loss': 0.6791, 'learning_rate': 1.9181585677749362e-05, 'epoch': 0.19}\n",
      "{'loss': 0.6755, 'learning_rate': 2.0460358056265986e-05, 'epoch': 0.2}\n",
      "{'loss': 0.673, 'learning_rate': 2.173913043478261e-05, 'epoch': 0.22}\n",
      "{'loss': 0.6704, 'learning_rate': 2.3017902813299234e-05, 'epoch': 0.23}\n",
      "{'loss': 0.6671, 'learning_rate': 2.4296675191815858e-05, 'epoch': 0.24}\n",
      "{'loss': 0.6663, 'learning_rate': 2.5575447570332482e-05, 'epoch': 0.26}\n",
      "{'loss': 0.6622, 'learning_rate': 2.6854219948849106e-05, 'epoch': 0.27}\n",
      "{'loss': 0.6574, 'learning_rate': 2.813299232736573e-05, 'epoch': 0.28}\n",
      "{'loss': 0.6561, 'learning_rate': 2.9411764705882354e-05, 'epoch': 0.29}\n",
      "{'loss': 0.6434, 'learning_rate': 3.069053708439898e-05, 'epoch': 0.31}\n",
      "{'loss': 0.6367, 'learning_rate': 3.1969309462915605e-05, 'epoch': 0.32}\n",
      "{'loss': 0.6291, 'learning_rate': 3.324808184143223e-05, 'epoch': 0.33}\n",
      "{'loss': 0.6201, 'learning_rate': 3.452685421994885e-05, 'epoch': 0.35}\n",
      "{'loss': 0.6197, 'learning_rate': 3.580562659846548e-05, 'epoch': 0.36}\n",
      "{'loss': 0.612, 'learning_rate': 3.70843989769821e-05, 'epoch': 0.37}\n",
      "{'loss': 0.6003, 'learning_rate': 3.8363171355498725e-05, 'epoch': 0.38}\n",
      "{'loss': 0.5878, 'learning_rate': 3.964194373401535e-05, 'epoch': 0.4}\n",
      "{'loss': 0.5704, 'learning_rate': 4.092071611253197e-05, 'epoch': 0.41}\n",
      "{'loss': 0.5644, 'learning_rate': 4.2199488491048596e-05, 'epoch': 0.42}\n",
      "{'loss': 0.5425, 'learning_rate': 4.347826086956522e-05, 'epoch': 0.44}\n",
      "{'loss': 0.5446, 'learning_rate': 4.4757033248081844e-05, 'epoch': 0.45}\n",
      "{'loss': 0.5093, 'learning_rate': 4.603580562659847e-05, 'epoch': 0.46}\n",
      "{'loss': 0.518, 'learning_rate': 4.731457800511509e-05, 'epoch': 0.47}\n",
      "{'loss': 0.5221, 'learning_rate': 4.8593350383631716e-05, 'epoch': 0.49}\n",
      "{'loss': 0.4809, 'learning_rate': 4.987212276214834e-05, 'epoch': 0.5}\n",
      "{'loss': 0.4675, 'learning_rate': 4.987194080819579e-05, 'epoch': 0.51}\n",
      "{'loss': 0.4742, 'learning_rate': 4.972965281730223e-05, 'epoch': 0.52}\n",
      "{'loss': 0.4474, 'learning_rate': 4.958736482640866e-05, 'epoch': 0.54}\n",
      "{'loss': 0.4317, 'learning_rate': 4.944507683551509e-05, 'epoch': 0.55}\n",
      "{'loss': 0.4589, 'learning_rate': 4.930278884462152e-05, 'epoch': 0.56}\n",
      "{'loss': 0.4379, 'learning_rate': 4.916050085372795e-05, 'epoch': 0.58}\n",
      "{'loss': 0.4533, 'learning_rate': 4.901821286283438e-05, 'epoch': 0.59}\n",
      "{'loss': 0.4293, 'learning_rate': 4.887592487194081e-05, 'epoch': 0.6}\n",
      "{'loss': 0.4271, 'learning_rate': 4.873363688104724e-05, 'epoch': 0.61}\n",
      "{'loss': 0.4086, 'learning_rate': 4.859134889015367e-05, 'epoch': 0.63}\n",
      "{'loss': 0.4096, 'learning_rate': 4.8449060899260105e-05, 'epoch': 0.64}\n",
      "{'loss': 0.4166, 'learning_rate': 4.8306772908366535e-05, 'epoch': 0.65}\n",
      "{'loss': 0.4253, 'learning_rate': 4.816448491747297e-05, 'epoch': 0.67}\n",
      "{'loss': 0.4041, 'learning_rate': 4.80221969265794e-05, 'epoch': 0.68}\n",
      "{'loss': 0.4077, 'learning_rate': 4.787990893568583e-05, 'epoch': 0.69}\n",
      "{'loss': 0.3957, 'learning_rate': 4.773762094479226e-05, 'epoch': 0.7}\n",
      "{'loss': 0.3931, 'learning_rate': 4.759533295389869e-05, 'epoch': 0.72}\n",
      "{'loss': 0.3995, 'learning_rate': 4.745304496300512e-05, 'epoch': 0.73}\n",
      "{'loss': 0.3793, 'learning_rate': 4.731075697211156e-05, 'epoch': 0.74}\n",
      "{'loss': 0.3947, 'learning_rate': 4.716846898121799e-05, 'epoch': 0.76}\n",
      "{'loss': 0.3652, 'learning_rate': 4.702618099032442e-05, 'epoch': 0.77}\n",
      "{'loss': 0.3689, 'learning_rate': 4.688389299943085e-05, 'epoch': 0.78}\n",
      "{'loss': 0.3843, 'learning_rate': 4.674160500853728e-05, 'epoch': 0.79}\n",
      "{'loss': 0.3974, 'learning_rate': 4.659931701764371e-05, 'epoch': 0.81}\n",
      "{'loss': 0.388, 'learning_rate': 4.6457029026750146e-05, 'epoch': 0.82}\n",
      "{'loss': 0.3507, 'learning_rate': 4.6314741035856576e-05, 'epoch': 0.83}\n",
      "{'loss': 0.3915, 'learning_rate': 4.617245304496301e-05, 'epoch': 0.84}\n",
      "{'loss': 0.3723, 'learning_rate': 4.603016505406944e-05, 'epoch': 0.86}\n",
      "{'loss': 0.3696, 'learning_rate': 4.588787706317587e-05, 'epoch': 0.87}\n",
      "{'loss': 0.3568, 'learning_rate': 4.57455890722823e-05, 'epoch': 0.88}\n",
      "{'loss': 0.3667, 'learning_rate': 4.560330108138873e-05, 'epoch': 0.9}\n",
      "{'loss': 0.3609, 'learning_rate': 4.546101309049516e-05, 'epoch': 0.91}\n",
      "{'loss': 0.3655, 'learning_rate': 4.531872509960159e-05, 'epoch': 0.92}\n",
      "{'loss': 0.3654, 'learning_rate': 4.517643710870802e-05, 'epoch': 0.93}\n",
      "{'loss': 0.3418, 'learning_rate': 4.503414911781445e-05, 'epoch': 0.95}\n",
      "{'loss': 0.3366, 'learning_rate': 4.489186112692089e-05, 'epoch': 0.96}\n",
      "{'loss': 0.3619, 'learning_rate': 4.474957313602732e-05, 'epoch': 0.97}\n",
      "{'loss': 0.3699, 'learning_rate': 4.460728514513375e-05, 'epoch': 0.99}\n",
      "{'loss': 0.3611, 'learning_rate': 4.446499715424019e-05, 'epoch': 1.0}\n"
     ]
    },
    {
     "data": {
      "application/vnd.jupyter.widget-view+json": {
       "model_id": "e26d70ada58c478fba11539d3a199477",
       "version_major": 2,
       "version_minor": 0
      },
      "text/plain": [
       "  0%|          | 0/625 [00:00<?, ?it/s]"
      ]
     },
     "metadata": {},
     "output_type": "display_data"
    },
    {
     "name": "stdout",
     "output_type": "stream",
     "text": [
      "{'eval_loss': 0.3235321044921875, 'eval_f1': 0.845711092483934, 'eval_runtime': 182.9557, 'eval_samples_per_second': 109.316, 'eval_steps_per_second': 3.416, 'epoch': 1.0}\n",
      "{'loss': 0.35, 'learning_rate': 4.432270916334662e-05, 'epoch': 1.01}\n",
      "{'loss': 0.3443, 'learning_rate': 4.418042117245305e-05, 'epoch': 1.02}\n",
      "{'loss': 0.3533, 'learning_rate': 4.403813318155948e-05, 'epoch': 1.04}\n",
      "{'loss': 0.3302, 'learning_rate': 4.389584519066591e-05, 'epoch': 1.05}\n",
      "{'loss': 0.34, 'learning_rate': 4.3753557199772344e-05, 'epoch': 1.06}\n",
      "{'loss': 0.3598, 'learning_rate': 4.3611269208878774e-05, 'epoch': 1.08}\n",
      "{'loss': 0.3465, 'learning_rate': 4.3468981217985204e-05, 'epoch': 1.09}\n",
      "{'loss': 0.3262, 'learning_rate': 4.3326693227091634e-05, 'epoch': 1.1}\n",
      "{'loss': 0.3451, 'learning_rate': 4.3184405236198064e-05, 'epoch': 1.11}\n",
      "{'loss': 0.3513, 'learning_rate': 4.3042117245304495e-05, 'epoch': 1.13}\n",
      "{'loss': 0.3535, 'learning_rate': 4.289982925441093e-05, 'epoch': 1.14}\n",
      "{'loss': 0.329, 'learning_rate': 4.275754126351736e-05, 'epoch': 1.15}\n",
      "{'loss': 0.3451, 'learning_rate': 4.26152532726238e-05, 'epoch': 1.16}\n",
      "{'loss': 0.3469, 'learning_rate': 4.247296528173023e-05, 'epoch': 1.18}\n",
      "{'loss': 0.3213, 'learning_rate': 4.233067729083666e-05, 'epoch': 1.19}\n",
      "{'loss': 0.3364, 'learning_rate': 4.218838929994309e-05, 'epoch': 1.2}\n",
      "{'loss': 0.3417, 'learning_rate': 4.204610130904952e-05, 'epoch': 1.22}\n",
      "{'loss': 0.3276, 'learning_rate': 4.190381331815595e-05, 'epoch': 1.23}\n",
      "{'loss': 0.3219, 'learning_rate': 4.176152532726238e-05, 'epoch': 1.24}\n",
      "{'loss': 0.3272, 'learning_rate': 4.161923733636881e-05, 'epoch': 1.25}\n",
      "{'loss': 0.3232, 'learning_rate': 4.147694934547524e-05, 'epoch': 1.27}\n",
      "{'loss': 0.2997, 'learning_rate': 4.1334661354581676e-05, 'epoch': 1.28}\n",
      "{'loss': 0.3234, 'learning_rate': 4.1192373363688106e-05, 'epoch': 1.29}\n",
      "{'loss': 0.326, 'learning_rate': 4.1050085372794536e-05, 'epoch': 1.31}\n",
      "{'loss': 0.331, 'learning_rate': 4.090779738190097e-05, 'epoch': 1.32}\n",
      "{'loss': 0.3192, 'learning_rate': 4.07655093910074e-05, 'epoch': 1.33}\n",
      "{'loss': 0.315, 'learning_rate': 4.062322140011383e-05, 'epoch': 1.34}\n",
      "{'loss': 0.3349, 'learning_rate': 4.048093340922026e-05, 'epoch': 1.36}\n",
      "{'loss': 0.3374, 'learning_rate': 4.033864541832669e-05, 'epoch': 1.37}\n",
      "{'loss': 0.3283, 'learning_rate': 4.019635742743313e-05, 'epoch': 1.38}\n",
      "{'loss': 0.339, 'learning_rate': 4.005406943653956e-05, 'epoch': 1.4}\n",
      "{'loss': 0.3202, 'learning_rate': 3.991178144564599e-05, 'epoch': 1.41}\n",
      "{'loss': 0.3365, 'learning_rate': 3.976949345475242e-05, 'epoch': 1.42}\n",
      "{'loss': 0.3055, 'learning_rate': 3.962720546385885e-05, 'epoch': 1.43}\n",
      "{'loss': 0.3017, 'learning_rate': 3.948491747296528e-05, 'epoch': 1.45}\n",
      "{'loss': 0.2838, 'learning_rate': 3.934262948207172e-05, 'epoch': 1.46}\n",
      "{'loss': 0.3101, 'learning_rate': 3.920034149117815e-05, 'epoch': 1.47}\n",
      "{'loss': 0.3168, 'learning_rate': 3.9058053500284584e-05, 'epoch': 1.48}\n",
      "{'loss': 0.3232, 'learning_rate': 3.8915765509391014e-05, 'epoch': 1.5}\n",
      "{'loss': 0.3001, 'learning_rate': 3.8773477518497444e-05, 'epoch': 1.51}\n",
      "{'loss': 0.2799, 'learning_rate': 3.8631189527603874e-05, 'epoch': 1.52}\n",
      "{'loss': 0.3186, 'learning_rate': 3.8488901536710304e-05, 'epoch': 1.54}\n",
      "{'loss': 0.3204, 'learning_rate': 3.8346613545816734e-05, 'epoch': 1.55}\n",
      "{'loss': 0.3218, 'learning_rate': 3.8204325554923164e-05, 'epoch': 1.56}\n",
      "{'loss': 0.2948, 'learning_rate': 3.8062037564029594e-05, 'epoch': 1.57}\n",
      "{'loss': 0.2922, 'learning_rate': 3.7919749573136024e-05, 'epoch': 1.59}\n",
      "{'loss': 0.3111, 'learning_rate': 3.777746158224246e-05, 'epoch': 1.6}\n",
      "{'loss': 0.3268, 'learning_rate': 3.763517359134889e-05, 'epoch': 1.61}\n",
      "{'loss': 0.3161, 'learning_rate': 3.749288560045532e-05, 'epoch': 1.63}\n",
      "{'loss': 0.2898, 'learning_rate': 3.735059760956176e-05, 'epoch': 1.64}\n",
      "{'loss': 0.3558, 'learning_rate': 3.720830961866819e-05, 'epoch': 1.65}\n",
      "{'loss': 0.3003, 'learning_rate': 3.706602162777462e-05, 'epoch': 1.66}\n",
      "{'loss': 0.3252, 'learning_rate': 3.692373363688105e-05, 'epoch': 1.68}\n",
      "{'loss': 0.3235, 'learning_rate': 3.678144564598748e-05, 'epoch': 1.69}\n",
      "{'loss': 0.3311, 'learning_rate': 3.6639157655093915e-05, 'epoch': 1.7}\n",
      "{'loss': 0.3227, 'learning_rate': 3.6496869664200345e-05, 'epoch': 1.72}\n",
      "{'loss': 0.2842, 'learning_rate': 3.6354581673306775e-05, 'epoch': 1.73}\n",
      "{'loss': 0.3133, 'learning_rate': 3.6212293682413205e-05, 'epoch': 1.74}\n",
      "{'loss': 0.3044, 'learning_rate': 3.6070005691519635e-05, 'epoch': 1.75}\n",
      "{'loss': 0.3018, 'learning_rate': 3.5927717700626065e-05, 'epoch': 1.77}\n",
      "{'loss': 0.3258, 'learning_rate': 3.57854297097325e-05, 'epoch': 1.78}\n",
      "{'loss': 0.2876, 'learning_rate': 3.564314171883893e-05, 'epoch': 1.79}\n",
      "{'loss': 0.3239, 'learning_rate': 3.550085372794537e-05, 'epoch': 1.8}\n",
      "{'loss': 0.3322, 'learning_rate': 3.53585657370518e-05, 'epoch': 1.82}\n",
      "{'loss': 0.3029, 'learning_rate': 3.521627774615823e-05, 'epoch': 1.83}\n",
      "{'loss': 0.3011, 'learning_rate': 3.507398975526466e-05, 'epoch': 1.84}\n",
      "{'loss': 0.2925, 'learning_rate': 3.493170176437109e-05, 'epoch': 1.86}\n",
      "{'loss': 0.3072, 'learning_rate': 3.478941377347752e-05, 'epoch': 1.87}\n",
      "{'loss': 0.3055, 'learning_rate': 3.464712578258395e-05, 'epoch': 1.88}\n",
      "{'loss': 0.3528, 'learning_rate': 3.450483779169038e-05, 'epoch': 1.89}\n",
      "{'loss': 0.3173, 'learning_rate': 3.436254980079681e-05, 'epoch': 1.91}\n",
      "{'loss': 0.3116, 'learning_rate': 3.4220261809903246e-05, 'epoch': 1.92}\n",
      "{'loss': 0.2982, 'learning_rate': 3.4077973819009676e-05, 'epoch': 1.93}\n",
      "{'loss': 0.3116, 'learning_rate': 3.3935685828116106e-05, 'epoch': 1.95}\n",
      "{'loss': 0.2994, 'learning_rate': 3.379339783722254e-05, 'epoch': 1.96}\n",
      "{'loss': 0.2946, 'learning_rate': 3.365110984632897e-05, 'epoch': 1.97}\n",
      "{'loss': 0.3056, 'learning_rate': 3.35088218554354e-05, 'epoch': 1.98}\n",
      "{'loss': 0.2799, 'learning_rate': 3.336653386454183e-05, 'epoch': 2.0}\n"
     ]
    },
    {
     "data": {
      "application/vnd.jupyter.widget-view+json": {
       "model_id": "36c5b9c812254bb8a6a7b3d16eed8e20",
       "version_major": 2,
       "version_minor": 0
      },
      "text/plain": [
       "  0%|          | 0/625 [00:00<?, ?it/s]"
      ]
     },
     "metadata": {},
     "output_type": "display_data"
    },
    {
     "name": "stdout",
     "output_type": "stream",
     "text": [
      "{'eval_loss': 0.21972163021564484, 'eval_f1': 0.908125722695259, 'eval_runtime': 73.4864, 'eval_samples_per_second': 272.159, 'eval_steps_per_second': 8.505, 'epoch': 2.0}\n",
      "{'loss': 0.2753, 'learning_rate': 3.322424587364826e-05, 'epoch': 2.01}\n",
      "{'loss': 0.2956, 'learning_rate': 3.30819578827547e-05, 'epoch': 2.02}\n",
      "{'loss': 0.3043, 'learning_rate': 3.293966989186113e-05, 'epoch': 2.04}\n",
      "{'loss': 0.3227, 'learning_rate': 3.279738190096756e-05, 'epoch': 2.05}\n",
      "{'loss': 0.2729, 'learning_rate': 3.265509391007399e-05, 'epoch': 2.06}\n",
      "{'loss': 0.297, 'learning_rate': 3.251280591918042e-05, 'epoch': 2.07}\n",
      "{'loss': 0.3339, 'learning_rate': 3.237051792828685e-05, 'epoch': 2.09}\n",
      "{'loss': 0.2966, 'learning_rate': 3.222822993739329e-05, 'epoch': 2.1}\n",
      "{'loss': 0.3021, 'learning_rate': 3.208594194649972e-05, 'epoch': 2.11}\n",
      "{'loss': 0.3073, 'learning_rate': 3.1943653955606154e-05, 'epoch': 2.12}\n",
      "{'loss': 0.2731, 'learning_rate': 3.1801365964712584e-05, 'epoch': 2.14}\n",
      "{'loss': 0.3183, 'learning_rate': 3.1659077973819014e-05, 'epoch': 2.15}\n",
      "{'loss': 0.3229, 'learning_rate': 3.1516789982925444e-05, 'epoch': 2.16}\n",
      "{'loss': 0.2839, 'learning_rate': 3.1374501992031874e-05, 'epoch': 2.18}\n",
      "{'loss': 0.2868, 'learning_rate': 3.1232214001138304e-05, 'epoch': 2.19}\n",
      "{'loss': 0.2936, 'learning_rate': 3.1089926010244734e-05, 'epoch': 2.2}\n",
      "{'loss': 0.2885, 'learning_rate': 3.0947638019351165e-05, 'epoch': 2.21}\n",
      "{'loss': 0.29, 'learning_rate': 3.08053500284576e-05, 'epoch': 2.23}\n",
      "{'loss': 0.2988, 'learning_rate': 3.066306203756403e-05, 'epoch': 2.24}\n",
      "{'loss': 0.2687, 'learning_rate': 3.052077404667046e-05, 'epoch': 2.25}\n",
      "{'loss': 0.2872, 'learning_rate': 3.0378486055776895e-05, 'epoch': 2.27}\n",
      "{'loss': 0.2829, 'learning_rate': 3.0236198064883325e-05, 'epoch': 2.28}\n",
      "{'loss': 0.3031, 'learning_rate': 3.0093910073989755e-05, 'epoch': 2.29}\n",
      "{'loss': 0.2878, 'learning_rate': 2.995162208309619e-05, 'epoch': 2.3}\n",
      "{'loss': 0.2852, 'learning_rate': 2.980933409220262e-05, 'epoch': 2.32}\n",
      "{'loss': 0.2973, 'learning_rate': 2.966704610130905e-05, 'epoch': 2.33}\n",
      "{'loss': 0.2711, 'learning_rate': 2.9524758110415485e-05, 'epoch': 2.34}\n",
      "{'loss': 0.3021, 'learning_rate': 2.9382470119521915e-05, 'epoch': 2.36}\n",
      "{'loss': 0.2692, 'learning_rate': 2.9240182128628346e-05, 'epoch': 2.37}\n",
      "{'loss': 0.2744, 'learning_rate': 2.9097894137734776e-05, 'epoch': 2.38}\n",
      "{'loss': 0.2712, 'learning_rate': 2.895560614684121e-05, 'epoch': 2.39}\n",
      "{'loss': 0.2968, 'learning_rate': 2.881331815594764e-05, 'epoch': 2.41}\n",
      "{'loss': 0.2846, 'learning_rate': 2.867103016505407e-05, 'epoch': 2.42}\n",
      "{'loss': 0.2805, 'learning_rate': 2.85287421741605e-05, 'epoch': 2.43}\n",
      "{'loss': 0.2863, 'learning_rate': 2.8386454183266936e-05, 'epoch': 2.44}\n",
      "{'loss': 0.2782, 'learning_rate': 2.8244166192373366e-05, 'epoch': 2.46}\n",
      "{'loss': 0.3083, 'learning_rate': 2.8101878201479796e-05, 'epoch': 2.47}\n",
      "{'loss': 0.2813, 'learning_rate': 2.795959021058623e-05, 'epoch': 2.48}\n",
      "{'loss': 0.2706, 'learning_rate': 2.781730221969266e-05, 'epoch': 2.5}\n",
      "{'loss': 0.2692, 'learning_rate': 2.767501422879909e-05, 'epoch': 2.51}\n",
      "{'loss': 0.274, 'learning_rate': 2.753272623790552e-05, 'epoch': 2.52}\n",
      "{'loss': 0.2734, 'learning_rate': 2.739043824701195e-05, 'epoch': 2.53}\n",
      "{'loss': 0.2836, 'learning_rate': 2.7248150256118387e-05, 'epoch': 2.55}\n",
      "{'loss': 0.2659, 'learning_rate': 2.710586226522482e-05, 'epoch': 2.56}\n",
      "{'loss': 0.2714, 'learning_rate': 2.696357427433125e-05, 'epoch': 2.57}\n",
      "{'loss': 0.2954, 'learning_rate': 2.682128628343768e-05, 'epoch': 2.59}\n",
      "{'loss': 0.2736, 'learning_rate': 2.667899829254411e-05, 'epoch': 2.6}\n",
      "{'loss': 0.2978, 'learning_rate': 2.653671030165054e-05, 'epoch': 2.61}\n",
      "{'loss': 0.2845, 'learning_rate': 2.6394422310756974e-05, 'epoch': 2.62}\n",
      "{'loss': 0.2808, 'learning_rate': 2.6252134319863404e-05, 'epoch': 2.64}\n",
      "{'loss': 0.2584, 'learning_rate': 2.6109846328969834e-05, 'epoch': 2.65}\n",
      "{'loss': 0.2921, 'learning_rate': 2.596755833807627e-05, 'epoch': 2.66}\n",
      "{'loss': 0.2944, 'learning_rate': 2.58252703471827e-05, 'epoch': 2.68}\n",
      "{'loss': 0.288, 'learning_rate': 2.568298235628913e-05, 'epoch': 2.69}\n",
      "{'loss': 0.2895, 'learning_rate': 2.554069436539556e-05, 'epoch': 2.7}\n",
      "{'loss': 0.275, 'learning_rate': 2.5398406374501994e-05, 'epoch': 2.71}\n",
      "{'loss': 0.2893, 'learning_rate': 2.5256118383608424e-05, 'epoch': 2.73}\n",
      "{'loss': 0.292, 'learning_rate': 2.5113830392714854e-05, 'epoch': 2.74}\n",
      "{'loss': 0.271, 'learning_rate': 2.4971542401821288e-05, 'epoch': 2.75}\n",
      "{'loss': 0.2717, 'learning_rate': 2.4829254410927718e-05, 'epoch': 2.76}\n",
      "{'loss': 0.2711, 'learning_rate': 2.4686966420034148e-05, 'epoch': 2.78}\n",
      "{'loss': 0.2919, 'learning_rate': 2.454467842914058e-05, 'epoch': 2.79}\n",
      "{'loss': 0.2783, 'learning_rate': 2.4402390438247015e-05, 'epoch': 2.8}\n",
      "{'loss': 0.261, 'learning_rate': 2.4260102447353445e-05, 'epoch': 2.82}\n",
      "{'loss': 0.3077, 'learning_rate': 2.4117814456459875e-05, 'epoch': 2.83}\n",
      "{'loss': 0.3056, 'learning_rate': 2.397552646556631e-05, 'epoch': 2.84}\n",
      "{'loss': 0.2868, 'learning_rate': 2.383323847467274e-05, 'epoch': 2.85}\n",
      "{'loss': 0.2519, 'learning_rate': 2.369095048377917e-05, 'epoch': 2.87}\n",
      "{'loss': 0.3101, 'learning_rate': 2.3548662492885602e-05, 'epoch': 2.88}\n",
      "{'loss': 0.2764, 'learning_rate': 2.3406374501992032e-05, 'epoch': 2.89}\n",
      "{'loss': 0.2756, 'learning_rate': 2.3264086511098466e-05, 'epoch': 2.91}\n",
      "{'loss': 0.2858, 'learning_rate': 2.3121798520204896e-05, 'epoch': 2.92}\n",
      "{'loss': 0.2689, 'learning_rate': 2.2979510529311326e-05, 'epoch': 2.93}\n",
      "{'loss': 0.2685, 'learning_rate': 2.283722253841776e-05, 'epoch': 2.94}\n",
      "{'loss': 0.2718, 'learning_rate': 2.2694934547524193e-05, 'epoch': 2.96}\n",
      "{'loss': 0.2743, 'learning_rate': 2.2552646556630623e-05, 'epoch': 2.97}\n",
      "{'loss': 0.2691, 'learning_rate': 2.2410358565737053e-05, 'epoch': 2.98}\n",
      "{'loss': 0.2595, 'learning_rate': 2.2268070574843483e-05, 'epoch': 3.0}\n"
     ]
    },
    {
     "data": {
      "application/vnd.jupyter.widget-view+json": {
       "model_id": "4f9b62a947c944889100ab7279437116",
       "version_major": 2,
       "version_minor": 0
      },
      "text/plain": [
       "  0%|          | 0/625 [00:00<?, ?it/s]"
      ]
     },
     "metadata": {},
     "output_type": "display_data"
    },
    {
     "name": "stdout",
     "output_type": "stream",
     "text": [
      "{'eval_loss': 0.1846153289079666, 'eval_f1': 0.9242236024844721, 'eval_runtime': 72.8641, 'eval_samples_per_second': 274.484, 'eval_steps_per_second': 8.578, 'epoch': 3.0}\n",
      "{'loss': 0.3044, 'learning_rate': 2.2125782583949916e-05, 'epoch': 3.01}\n",
      "{'loss': 0.3036, 'learning_rate': 2.1983494593056346e-05, 'epoch': 3.02}\n",
      "{'loss': 0.2783, 'learning_rate': 2.184120660216278e-05, 'epoch': 3.03}\n",
      "{'loss': 0.2652, 'learning_rate': 2.169891861126921e-05, 'epoch': 3.05}\n",
      "{'loss': 0.2824, 'learning_rate': 2.1556630620375643e-05, 'epoch': 3.06}\n",
      "{'loss': 0.2632, 'learning_rate': 2.1414342629482073e-05, 'epoch': 3.07}\n",
      "{'loss': 0.285, 'learning_rate': 2.1272054638588503e-05, 'epoch': 3.08}\n",
      "{'loss': 0.2621, 'learning_rate': 2.1129766647694933e-05, 'epoch': 3.1}\n",
      "{'loss': 0.2566, 'learning_rate': 2.0987478656801367e-05, 'epoch': 3.11}\n",
      "{'loss': 0.2855, 'learning_rate': 2.08451906659078e-05, 'epoch': 3.12}\n",
      "{'loss': 0.2797, 'learning_rate': 2.070290267501423e-05, 'epoch': 3.14}\n",
      "{'loss': 0.2698, 'learning_rate': 2.056061468412066e-05, 'epoch': 3.15}\n",
      "{'loss': 0.3017, 'learning_rate': 2.0418326693227094e-05, 'epoch': 3.16}\n",
      "{'loss': 0.2538, 'learning_rate': 2.0276038702333524e-05, 'epoch': 3.17}\n",
      "{'loss': 0.2804, 'learning_rate': 2.0133750711439954e-05, 'epoch': 3.19}\n",
      "{'loss': 0.2696, 'learning_rate': 1.9991462720546387e-05, 'epoch': 3.2}\n",
      "{'loss': 0.2682, 'learning_rate': 1.9849174729652817e-05, 'epoch': 3.21}\n",
      "{'loss': 0.2891, 'learning_rate': 1.970688673875925e-05, 'epoch': 3.23}\n",
      "{'loss': 0.2993, 'learning_rate': 1.956459874786568e-05, 'epoch': 3.24}\n",
      "{'loss': 0.2629, 'learning_rate': 1.942231075697211e-05, 'epoch': 3.25}\n",
      "{'loss': 0.2578, 'learning_rate': 1.928002276607854e-05, 'epoch': 3.26}\n",
      "{'loss': 0.2532, 'learning_rate': 1.9137734775184978e-05, 'epoch': 3.28}\n",
      "{'loss': 0.2493, 'learning_rate': 1.8995446784291408e-05, 'epoch': 3.29}\n",
      "{'loss': 0.2759, 'learning_rate': 1.8853158793397838e-05, 'epoch': 3.3}\n",
      "{'loss': 0.2996, 'learning_rate': 1.8710870802504268e-05, 'epoch': 3.32}\n",
      "{'loss': 0.2823, 'learning_rate': 1.85685828116107e-05, 'epoch': 3.33}\n",
      "{'loss': 0.2599, 'learning_rate': 1.842629482071713e-05, 'epoch': 3.34}\n",
      "{'loss': 0.2868, 'learning_rate': 1.8284006829823565e-05, 'epoch': 3.35}\n",
      "{'loss': 0.2844, 'learning_rate': 1.8141718838929995e-05, 'epoch': 3.37}\n",
      "{'loss': 0.2468, 'learning_rate': 1.799943084803643e-05, 'epoch': 3.38}\n",
      "{'loss': 0.2636, 'learning_rate': 1.785714285714286e-05, 'epoch': 3.39}\n",
      "{'loss': 0.2765, 'learning_rate': 1.771485486624929e-05, 'epoch': 3.4}\n",
      "{'loss': 0.2561, 'learning_rate': 1.757256687535572e-05, 'epoch': 3.42}\n",
      "{'loss': 0.2512, 'learning_rate': 1.7430278884462152e-05, 'epoch': 3.43}\n",
      "{'loss': 0.2541, 'learning_rate': 1.7287990893568585e-05, 'epoch': 3.44}\n",
      "{'loss': 0.2864, 'learning_rate': 1.7145702902675016e-05, 'epoch': 3.46}\n",
      "{'loss': 0.2837, 'learning_rate': 1.7003414911781446e-05, 'epoch': 3.47}\n",
      "{'loss': 0.2624, 'learning_rate': 1.686112692088788e-05, 'epoch': 3.48}\n",
      "{'loss': 0.2503, 'learning_rate': 1.671883892999431e-05, 'epoch': 3.49}\n",
      "{'loss': 0.2562, 'learning_rate': 1.657655093910074e-05, 'epoch': 3.51}\n",
      "{'loss': 0.3049, 'learning_rate': 1.6434262948207173e-05, 'epoch': 3.52}\n",
      "{'loss': 0.2968, 'learning_rate': 1.6291974957313603e-05, 'epoch': 3.53}\n",
      "{'loss': 0.2861, 'learning_rate': 1.6149686966420036e-05, 'epoch': 3.55}\n",
      "{'loss': 0.2697, 'learning_rate': 1.6007398975526466e-05, 'epoch': 3.56}\n",
      "{'loss': 0.2564, 'learning_rate': 1.5865110984632896e-05, 'epoch': 3.57}\n",
      "{'loss': 0.2659, 'learning_rate': 1.5722822993739326e-05, 'epoch': 3.58}\n",
      "{'loss': 0.2706, 'learning_rate': 1.558053500284576e-05, 'epoch': 3.6}\n",
      "{'loss': 0.2737, 'learning_rate': 1.5438247011952193e-05, 'epoch': 3.61}\n",
      "{'loss': 0.2723, 'learning_rate': 1.5295959021058623e-05, 'epoch': 3.62}\n",
      "{'loss': 0.2262, 'learning_rate': 1.5153671030165053e-05, 'epoch': 3.64}\n",
      "{'loss': 0.2813, 'learning_rate': 1.5011383039271487e-05, 'epoch': 3.65}\n",
      "{'loss': 0.2769, 'learning_rate': 1.4869095048377918e-05, 'epoch': 3.66}\n",
      "{'loss': 0.261, 'learning_rate': 1.4726807057484349e-05, 'epoch': 3.67}\n",
      "{'loss': 0.2599, 'learning_rate': 1.4584519066590779e-05, 'epoch': 3.69}\n",
      "{'loss': 0.2438, 'learning_rate': 1.4442231075697214e-05, 'epoch': 3.7}\n",
      "{'loss': 0.2871, 'learning_rate': 1.4299943084803644e-05, 'epoch': 3.71}\n",
      "{'loss': 0.2953, 'learning_rate': 1.4157655093910074e-05, 'epoch': 3.72}\n",
      "{'loss': 0.2653, 'learning_rate': 1.4015367103016506e-05, 'epoch': 3.74}\n",
      "{'loss': 0.2911, 'learning_rate': 1.3873079112122939e-05, 'epoch': 3.75}\n",
      "{'loss': 0.268, 'learning_rate': 1.3730791121229369e-05, 'epoch': 3.76}\n",
      "{'loss': 0.2739, 'learning_rate': 1.35885031303358e-05, 'epoch': 3.78}\n",
      "{'loss': 0.2535, 'learning_rate': 1.3446215139442231e-05, 'epoch': 3.79}\n",
      "{'loss': 0.2826, 'learning_rate': 1.3303927148548664e-05, 'epoch': 3.8}\n",
      "{'loss': 0.2668, 'learning_rate': 1.3161639157655094e-05, 'epoch': 3.81}\n",
      "{'loss': 0.2344, 'learning_rate': 1.3019351166761526e-05, 'epoch': 3.83}\n",
      "{'loss': 0.2693, 'learning_rate': 1.2877063175867956e-05, 'epoch': 3.84}\n",
      "{'loss': 0.2995, 'learning_rate': 1.273477518497439e-05, 'epoch': 3.85}\n",
      "{'loss': 0.3009, 'learning_rate': 1.2592487194080821e-05, 'epoch': 3.87}\n",
      "{'loss': 0.2617, 'learning_rate': 1.2450199203187251e-05, 'epoch': 3.88}\n",
      "{'loss': 0.2709, 'learning_rate': 1.2307911212293683e-05, 'epoch': 3.89}\n",
      "{'loss': 0.277, 'learning_rate': 1.2165623221400115e-05, 'epoch': 3.9}\n",
      "{'loss': 0.2705, 'learning_rate': 1.2023335230506545e-05, 'epoch': 3.92}\n",
      "{'loss': 0.2821, 'learning_rate': 1.1881047239612977e-05, 'epoch': 3.93}\n",
      "{'loss': 0.2576, 'learning_rate': 1.1738759248719409e-05, 'epoch': 3.94}\n",
      "{'loss': 0.2604, 'learning_rate': 1.159647125782584e-05, 'epoch': 3.96}\n",
      "{'loss': 0.3086, 'learning_rate': 1.145418326693227e-05, 'epoch': 3.97}\n",
      "{'loss': 0.2522, 'learning_rate': 1.1311895276038704e-05, 'epoch': 3.98}\n",
      "{'loss': 0.2382, 'learning_rate': 1.1169607285145134e-05, 'epoch': 3.99}\n"
     ]
    },
    {
     "data": {
      "application/vnd.jupyter.widget-view+json": {
       "model_id": "3302d812efdd4df5bab4280b2c1a8b75",
       "version_major": 2,
       "version_minor": 0
      },
      "text/plain": [
       "  0%|          | 0/625 [00:00<?, ?it/s]"
      ]
     },
     "metadata": {},
     "output_type": "display_data"
    },
    {
     "name": "stdout",
     "output_type": "stream",
     "text": [
      "{'eval_loss': 0.18106049299240112, 'eval_f1': 0.926023983803146, 'eval_runtime': 72.6686, 'eval_samples_per_second': 275.222, 'eval_steps_per_second': 8.601, 'epoch': 4.0}\n",
      "{'loss': 0.2665, 'learning_rate': 1.1027319294251566e-05, 'epoch': 4.01}\n",
      "{'loss': 0.2572, 'learning_rate': 1.0885031303357997e-05, 'epoch': 4.02}\n",
      "{'loss': 0.2696, 'learning_rate': 1.0742743312464429e-05, 'epoch': 4.03}\n",
      "{'loss': 0.2987, 'learning_rate': 1.0600455321570859e-05, 'epoch': 4.04}\n",
      "{'loss': 0.2928, 'learning_rate': 1.0458167330677293e-05, 'epoch': 4.06}\n",
      "{'loss': 0.2496, 'learning_rate': 1.0315879339783723e-05, 'epoch': 4.07}\n",
      "{'loss': 0.2645, 'learning_rate': 1.0173591348890154e-05, 'epoch': 4.08}\n",
      "{'loss': 0.2559, 'learning_rate': 1.0031303357996586e-05, 'epoch': 4.1}\n",
      "{'loss': 0.2567, 'learning_rate': 9.889015367103018e-06, 'epoch': 4.11}\n",
      "{'loss': 0.2601, 'learning_rate': 9.746727376209448e-06, 'epoch': 4.12}\n",
      "{'loss': 0.282, 'learning_rate': 9.60443938531588e-06, 'epoch': 4.13}\n",
      "{'loss': 0.2622, 'learning_rate': 9.462151394422311e-06, 'epoch': 4.15}\n",
      "{'loss': 0.2625, 'learning_rate': 9.319863403528743e-06, 'epoch': 4.16}\n",
      "{'loss': 0.2731, 'learning_rate': 9.177575412635173e-06, 'epoch': 4.17}\n",
      "{'loss': 0.2718, 'learning_rate': 9.035287421741605e-06, 'epoch': 4.19}\n",
      "{'loss': 0.2424, 'learning_rate': 8.892999430848037e-06, 'epoch': 4.2}\n",
      "{'loss': 0.2678, 'learning_rate': 8.750711439954467e-06, 'epoch': 4.21}\n",
      "{'loss': 0.2464, 'learning_rate': 8.6084234490609e-06, 'epoch': 4.22}\n",
      "{'loss': 0.2854, 'learning_rate': 8.46613545816733e-06, 'epoch': 4.24}\n",
      "{'loss': 0.2656, 'learning_rate': 8.323847467273762e-06, 'epoch': 4.25}\n",
      "{'loss': 0.2779, 'learning_rate': 8.181559476380194e-06, 'epoch': 4.26}\n",
      "{'loss': 0.2601, 'learning_rate': 8.039271485486626e-06, 'epoch': 4.28}\n",
      "{'loss': 0.295, 'learning_rate': 7.896983494593056e-06, 'epoch': 4.29}\n",
      "{'loss': 0.2667, 'learning_rate': 7.754695503699489e-06, 'epoch': 4.3}\n",
      "{'loss': 0.2371, 'learning_rate': 7.612407512805919e-06, 'epoch': 4.31}\n",
      "{'loss': 0.2601, 'learning_rate': 7.470119521912351e-06, 'epoch': 4.33}\n",
      "{'loss': 0.2567, 'learning_rate': 7.327831531018782e-06, 'epoch': 4.34}\n",
      "{'loss': 0.2499, 'learning_rate': 7.185543540125214e-06, 'epoch': 4.35}\n",
      "{'loss': 0.2562, 'learning_rate': 7.043255549231645e-06, 'epoch': 4.36}\n",
      "{'loss': 0.2631, 'learning_rate': 6.900967558338077e-06, 'epoch': 4.38}\n",
      "{'loss': 0.2366, 'learning_rate': 6.758679567444508e-06, 'epoch': 4.39}\n",
      "{'loss': 0.2471, 'learning_rate': 6.61639157655094e-06, 'epoch': 4.4}\n",
      "{'loss': 0.2769, 'learning_rate': 6.474103585657371e-06, 'epoch': 4.42}\n",
      "{'loss': 0.2763, 'learning_rate': 6.331815594763802e-06, 'epoch': 4.43}\n",
      "{'loss': 0.2566, 'learning_rate': 6.189527603870233e-06, 'epoch': 4.44}\n",
      "{'loss': 0.251, 'learning_rate': 6.047239612976665e-06, 'epoch': 4.45}\n",
      "{'loss': 0.252, 'learning_rate': 5.904951622083097e-06, 'epoch': 4.47}\n",
      "{'loss': 0.2554, 'learning_rate': 5.762663631189528e-06, 'epoch': 4.48}\n",
      "{'loss': 0.2424, 'learning_rate': 5.620375640295959e-06, 'epoch': 4.49}\n",
      "{'loss': 0.2702, 'learning_rate': 5.47808764940239e-06, 'epoch': 4.51}\n",
      "{'loss': 0.2477, 'learning_rate': 5.335799658508822e-06, 'epoch': 4.52}\n",
      "{'loss': 0.2407, 'learning_rate': 5.193511667615254e-06, 'epoch': 4.53}\n",
      "{'loss': 0.2761, 'learning_rate': 5.051223676721685e-06, 'epoch': 4.54}\n",
      "{'loss': 0.2523, 'learning_rate': 4.9089356858281165e-06, 'epoch': 4.56}\n",
      "{'loss': 0.2661, 'learning_rate': 4.766647694934548e-06, 'epoch': 4.57}\n",
      "{'loss': 0.2732, 'learning_rate': 4.624359704040979e-06, 'epoch': 4.58}\n",
      "{'loss': 0.2458, 'learning_rate': 4.482071713147411e-06, 'epoch': 4.6}\n",
      "{'loss': 0.2855, 'learning_rate': 4.339783722253843e-06, 'epoch': 4.61}\n",
      "{'loss': 0.2768, 'learning_rate': 4.1974957313602735e-06, 'epoch': 4.62}\n",
      "{'loss': 0.2205, 'learning_rate': 4.055207740466705e-06, 'epoch': 4.63}\n",
      "{'loss': 0.2694, 'learning_rate': 3.912919749573136e-06, 'epoch': 4.65}\n",
      "{'loss': 0.2626, 'learning_rate': 3.770631758679568e-06, 'epoch': 4.66}\n",
      "{'loss': 0.27, 'learning_rate': 3.6283437677859993e-06, 'epoch': 4.67}\n",
      "{'loss': 0.2767, 'learning_rate': 3.48605577689243e-06, 'epoch': 4.68}\n",
      "{'loss': 0.2551, 'learning_rate': 3.3437677859988615e-06, 'epoch': 4.7}\n",
      "{'loss': 0.2675, 'learning_rate': 3.201479795105293e-06, 'epoch': 4.71}\n",
      "{'loss': 0.2492, 'learning_rate': 3.059191804211725e-06, 'epoch': 4.72}\n",
      "{'loss': 0.2471, 'learning_rate': 2.9169038133181563e-06, 'epoch': 4.74}\n",
      "{'loss': 0.3012, 'learning_rate': 2.7746158224245876e-06, 'epoch': 4.75}\n",
      "{'loss': 0.2774, 'learning_rate': 2.6323278315310185e-06, 'epoch': 4.76}\n",
      "{'loss': 0.2917, 'learning_rate': 2.4900398406374503e-06, 'epoch': 4.77}\n",
      "{'loss': 0.2524, 'learning_rate': 2.3477518497438816e-06, 'epoch': 4.79}\n",
      "{'loss': 0.2413, 'learning_rate': 2.205463858850313e-06, 'epoch': 4.8}\n",
      "{'loss': 0.2676, 'learning_rate': 2.0631758679567447e-06, 'epoch': 4.81}\n",
      "{'loss': 0.2641, 'learning_rate': 1.920887877063176e-06, 'epoch': 4.83}\n",
      "{'loss': 0.2503, 'learning_rate': 1.7785998861696074e-06, 'epoch': 4.84}\n",
      "{'loss': 0.2642, 'learning_rate': 1.6363118952760389e-06, 'epoch': 4.85}\n",
      "{'loss': 0.2525, 'learning_rate': 1.4940239043824702e-06, 'epoch': 4.86}\n",
      "{'loss': 0.2686, 'learning_rate': 1.3517359134889015e-06, 'epoch': 4.88}\n",
      "{'loss': 0.2881, 'learning_rate': 1.2094479225953329e-06, 'epoch': 4.89}\n",
      "{'loss': 0.2576, 'learning_rate': 1.0671599317017644e-06, 'epoch': 4.9}\n",
      "{'loss': 0.2564, 'learning_rate': 9.248719408081958e-07, 'epoch': 4.92}\n",
      "{'loss': 0.2596, 'learning_rate': 7.825839499146273e-07, 'epoch': 4.93}\n",
      "{'loss': 0.2735, 'learning_rate': 6.402959590210586e-07, 'epoch': 4.94}\n",
      "{'loss': 0.2694, 'learning_rate': 4.9800796812749e-07, 'epoch': 4.95}\n",
      "{'loss': 0.2559, 'learning_rate': 3.5571997723392147e-07, 'epoch': 4.97}\n",
      "{'loss': 0.254, 'learning_rate': 2.1343198634035288e-07, 'epoch': 4.98}\n",
      "{'loss': 0.2599, 'learning_rate': 7.11439954467843e-08, 'epoch': 4.99}\n"
     ]
    },
    {
     "data": {
      "application/vnd.jupyter.widget-view+json": {
       "model_id": "5de6967a2cd44f0c830c5d185dbaa148",
       "version_major": 2,
       "version_minor": 0
      },
      "text/plain": [
       "  0%|          | 0/625 [00:00<?, ?it/s]"
      ]
     },
     "metadata": {},
     "output_type": "display_data"
    },
    {
     "name": "stdout",
     "output_type": "stream",
     "text": [
      "{'eval_loss': 0.16951845586299896, 'eval_f1': 0.9315419722065534, 'eval_runtime': 74.5195, 'eval_samples_per_second': 268.386, 'eval_steps_per_second': 8.387, 'epoch': 5.0}\n",
      "{'train_runtime': 6642.1472, 'train_samples_per_second': 75.277, 'train_steps_per_second': 0.588, 'train_loss': 0.33123261595810266, 'epoch': 5.0}\n"
     ]
    }
   ],
   "source": [
    "train_results = trainer.train()\n",
    "\n",
    "trainer.save_model()\n",
    "\n",
    "trainer.save_metrics(\"train\", train_results.metrics)\n",
    "trainer.save_state()"
   ]
  },
  {
   "cell_type": "code",
   "execution_count": 43,
   "metadata": {},
   "outputs": [
    {
     "data": {
      "application/vnd.jupyter.widget-view+json": {
       "model_id": "6a5ce68ea5d6463b8b58fe4f5dc149ff",
       "version_major": 2,
       "version_minor": 0
      },
      "text/plain": [
       "  0%|          | 0/625 [00:00<?, ?it/s]"
      ]
     },
     "metadata": {},
     "output_type": "display_data"
    },
    {
     "name": "stdout",
     "output_type": "stream",
     "text": [
      "***** eval metrics *****\n",
      "  epoch                   =        5.0\n",
      "  eval_f1                 =     0.9315\n",
      "  eval_loss               =     0.1695\n",
      "  eval_runtime            = 0:01:11.99\n",
      "  eval_samples_per_second =    277.791\n",
      "  eval_steps_per_second   =      8.681\n"
     ]
    }
   ],
   "source": [
    "metrics = trainer.evaluate()\n",
    "# some nice to haves:\n",
    "trainer.log_metrics(\"eval\", metrics)\n",
    "trainer.save_metrics(\"eval\", metrics)"
   ]
  },
  {
   "cell_type": "code",
   "execution_count": null,
   "metadata": {},
   "outputs": [],
   "source": []
  }
 ],
 "metadata": {
  "kernelspec": {
   "display_name": "Python 3",
   "language": "python",
   "name": "python3"
  },
  "language_info": {
   "codemirror_mode": {
    "name": "ipython",
    "version": 3
   },
   "file_extension": ".py",
   "mimetype": "text/x-python",
   "name": "python",
   "nbconvert_exporter": "python",
   "pygments_lexer": "ipython3",
   "version": "3.10.6"
  },
  "orig_nbformat": 4
 },
 "nbformat": 4,
 "nbformat_minor": 2
}
